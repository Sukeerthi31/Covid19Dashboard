{
 "cells": [
  {
   "cell_type": "code",
   "execution_count": 5,
   "metadata": {
    "ExecuteTime": {
     "end_time": "2020-10-26T14:10:13.958382Z",
     "start_time": "2020-10-26T14:10:12.341898Z"
    }
   },
   "outputs": [
    {
     "data": {
      "text/plain": [
       "{'Micronesia'}"
      ]
     },
     "execution_count": 5,
     "metadata": {},
     "output_type": "execute_result"
    }
   ],
   "source": [
    "import pandas as pd\n",
    "\n",
    "df_conf=pd.read_csv('time_series_covid19_confirmed_global.csv')\n",
    "fl_data=pd.read_csv(\"flourish_flags.csv\")\n",
    "\n",
    "\n",
    "country_list=df_conf[\"Country/Region\"].unique()\n",
    "fl_ctry=set(fl_data[\"Country Name\"].unique())\n",
    "false_set=set(country_list)-fl_ctry\n",
    "set(country_list)-fl_ctry "
   ]
  },
  {
   "cell_type": "code",
   "execution_count": 6,
   "metadata": {
    "ExecuteTime": {
     "end_time": "2020-10-26T14:10:17.232616Z",
     "start_time": "2020-10-26T14:10:17.204663Z"
    },
    "code_folding": [
     0
    ]
   },
   "outputs": [
    {
     "data": {
      "text/plain": [
       "'\\nfl_data[\\'Country Name\\'][fl_data[\\'Country Name\\']==\\'Bahamas, The\\']=\\'Bahamas\\'\\nfl_data[\\'Country Name\\'][fl_data[\\'Country Name\\']==\"Brunei Darussalam\"]=\\'Brunei\\'\\nfl_data[\\'Country Name\\'][fl_data[\\'Country Name\\']==\"Myanmar\"]=\\'Burma\\'\\nfl_data[\\'Country Name\\'][fl_data[\\'Country Name\\']==\"Congo, Rep.\"]=\\'Congo (Brazzaville)\\'\\nfl_data[\\'Country Name\\'][fl_data[\\'Country Name\\']==\"Congo, Dem. Rep.\"]=\\'Congo (Kinshasa)\\'\\nfl_data[\\'Country Name\\'][fl_data[\\'Country Name\\']==\"Czech Republic\"]=\\'Czechia\\'\\nfl_data[\\'Country Name\\'][fl_data[\\'Country Name\\']==\"Cruise Ship\"]=\\'Diamond Princess\\'\\nfl_data[\\'Country Name\\'][fl_data[\\'Country Name\\']==\"Egypt, Arab Rep.\"]=\\'Egypt\\'\\nfl_data[\\'Country Name\\'][fl_data[\\'Country Name\\']==\"Gambia, The\"]=\\'Gambia\\'\\nfl_data[\\'Country Name\\'][fl_data[\\'Country Name\\']==\"NA\"]=\\'Holy See\\'\\nfl_data[\\'Country Name\\'][fl_data[\\'Country Name\\']==\"Iran, Islamic Rep.\"]=\\'Iran\\'\\nfl_data[\\'Country Name\\'][fl_data[\\'Country Name\\']==\"Korea, Rep.\"]=\\'Korea, South\\'\\nfl_data[\\'Country Name\\'][fl_data[\\'Country Name\\']==\"NA\"]=\\'Kosovo\\'\\nfl_data[\\'Country Name\\'][fl_data[\\'Country Name\\']==\"Kyrgyz Republic\"]=\\'Kyrgyzstan\\'\\nfl_data[\\'Country Name\\'][fl_data[\\'Country Name\\']==\"Lao PDR\"]=\\'Laos\\'\\nfl_data[\\'Country Name\\'][fl_data[\\'Country Name\\']==\"Cruise Ship\"]=\\'MS Zaandam\\'\\nfl_data[\\'Country Name\\'][fl_data[\\'Country Name\\']==\"Macedonia, FYR\"]=\\'North Macedonia\\'\\nfl_data[\\'Country Name\\'][fl_data[\\'Country Name\\']==\"St. Kitts and Nevis\"]=\\'Saint Kitts and Nevis\\'\\nfl_data[\\'Country Name\\'][fl_data[\\'Country Name\\']==\"St. Lucia\"]=\\'Saint Lucia\\'\\nfl_data[\\'Country Name\\'][fl_data[\\'Country Name\\']==\"St. Vincent and the Grenadines\"]=\\'Saint Vincent and the Grenadines\\'\\nfl_data[\\'Country Name\\'][fl_data[\\'Country Name\\']==\"Slovak Republic\"]=\\'Slovakia\\'\\nfl_data[\\'Country Name\\'][fl_data[\\'Country Name\\']==\"Syrian Arab Republic\"]=\\'Syria\\'\\nfl_data[\\'Country Name\\'][fl_data[\\'Country Name\\']==\"NA\"]=\\'Taiwan*\\'\\nfl_data[\\'Country Name\\'][fl_data[\\'Country Name\\']==\"USA\"]=\\'US\\'\\nfl_data[\\'Country Name\\'][fl_data[\\'Country Name\\']==\"UAE\"]=\\'United Arab Emirates\\'\\nfl_data[\\'Country Name\\'][fl_data[\\'Country Name\\']==\"UK\"]=\\'United Kingdom\\'\\nfl_data[\\'Country Name\\'][fl_data[\\'Country Name\\']==\"Venezuela, RB\"]=\\'Venezuela\\'\\nfl_data[\\'Country Name\\'][fl_data[\\'Country Name\\']==\"NA\"]=\\'Western Sahara\\'\\nfl_data[\\'Country Name\\'][fl_data[\\'Country Name\\']==\"Yemen, Rep.\"]=\\'Yemen\\'\\n'"
      ]
     },
     "execution_count": 6,
     "metadata": {},
     "output_type": "execute_result"
    }
   ],
   "source": [
    "\"\"\"\n",
    "fl_data['Country Name'][fl_data['Country Name']=='Bahamas, The']='Bahamas'\n",
    "fl_data['Country Name'][fl_data['Country Name']==\"Brunei Darussalam\"]='Brunei'\n",
    "fl_data['Country Name'][fl_data['Country Name']==\"Myanmar\"]='Burma'\n",
    "fl_data['Country Name'][fl_data['Country Name']==\"Congo, Rep.\"]='Congo (Brazzaville)'\n",
    "fl_data['Country Name'][fl_data['Country Name']==\"Congo, Dem. Rep.\"]='Congo (Kinshasa)'\n",
    "fl_data['Country Name'][fl_data['Country Name']==\"Czech Republic\"]='Czechia'\n",
    "fl_data['Country Name'][fl_data['Country Name']==\"Cruise Ship\"]='Diamond Princess'\n",
    "fl_data['Country Name'][fl_data['Country Name']==\"Egypt, Arab Rep.\"]='Egypt'\n",
    "fl_data['Country Name'][fl_data['Country Name']==\"Gambia, The\"]='Gambia'\n",
    "fl_data['Country Name'][fl_data['Country Name']==\"NA\"]='Holy See'\n",
    "fl_data['Country Name'][fl_data['Country Name']==\"Iran, Islamic Rep.\"]='Iran'\n",
    "fl_data['Country Name'][fl_data['Country Name']==\"Korea, Rep.\"]='Korea, South'\n",
    "fl_data['Country Name'][fl_data['Country Name']==\"NA\"]='Kosovo'\n",
    "fl_data['Country Name'][fl_data['Country Name']==\"Kyrgyz Republic\"]='Kyrgyzstan'\n",
    "fl_data['Country Name'][fl_data['Country Name']==\"Lao PDR\"]='Laos'\n",
    "fl_data['Country Name'][fl_data['Country Name']==\"Cruise Ship\"]='MS Zaandam'\n",
    "fl_data['Country Name'][fl_data['Country Name']==\"Macedonia, FYR\"]='North Macedonia'\n",
    "fl_data['Country Name'][fl_data['Country Name']==\"St. Kitts and Nevis\"]='Saint Kitts and Nevis'\n",
    "fl_data['Country Name'][fl_data['Country Name']==\"St. Lucia\"]='Saint Lucia'\n",
    "fl_data['Country Name'][fl_data['Country Name']==\"St. Vincent and the Grenadines\"]='Saint Vincent and the Grenadines'\n",
    "fl_data['Country Name'][fl_data['Country Name']==\"Slovak Republic\"]='Slovakia'\n",
    "fl_data['Country Name'][fl_data['Country Name']==\"Syrian Arab Republic\"]='Syria'\n",
    "fl_data['Country Name'][fl_data['Country Name']==\"NA\"]='Taiwan*'\n",
    "fl_data['Country Name'][fl_data['Country Name']==\"USA\"]='US'\n",
    "fl_data['Country Name'][fl_data['Country Name']==\"UAE\"]='United Arab Emirates'\n",
    "fl_data['Country Name'][fl_data['Country Name']==\"UK\"]='United Kingdom'\n",
    "fl_data['Country Name'][fl_data['Country Name']==\"Venezuela, RB\"]='Venezuela'\n",
    "fl_data['Country Name'][fl_data['Country Name']==\"NA\"]='Western Sahara'\n",
    "fl_data['Country Name'][fl_data['Country Name']==\"Yemen, Rep.\"]='Yemen'\n",
    "\"\"\""
   ]
  },
  {
   "cell_type": "code",
   "execution_count": 7,
   "metadata": {
    "ExecuteTime": {
     "end_time": "2020-10-26T14:13:44.410382Z",
     "start_time": "2020-10-26T14:10:18.185813Z"
    }
   },
   "outputs": [],
   "source": [
    "df_conf.drop(['Province/State','Lat', 'Long'],axis=1, inplace=True)\n",
    "df_c=pd.DataFrame(columns=df_conf.columns)\n",
    "df_c['Country/Region']=country_list\n",
    "\n",
    "\n",
    "for col_name in df_c.keys()[1:]:\n",
    "    for ctry in country_list:\n",
    "        x=df_conf[col_name][df_conf[\"Country/Region\"]==ctry].sum()\n",
    "        df_c[col_name][df_c['Country/Region']==ctry]=x\n",
    "        \n",
    "        \n",
    "df_c['region']=\"\"\n",
    "df_c['Image']=\"\"\n",
    "\n",
    "for ctry in df_c['Country/Region'].unique():\n",
    "    df_c['region'][df_c['Country/Region']==ctry]=str(fl_data.region[fl_data['Country Name']==ctry].sum())\n",
    "    df_c['Image'][df_c['Country/Region']==ctry]=str(fl_data['Image URL'][fl_data['Country Name']==ctry].sum())"
   ]
  },
  {
   "cell_type": "code",
   "execution_count": 8,
   "metadata": {
    "ExecuteTime": {
     "end_time": "2020-10-26T14:13:44.466446Z",
     "start_time": "2020-10-26T14:13:44.410382Z"
    }
   },
   "outputs": [
    {
     "data": {
      "text/html": [
       "<div>\n",
       "<style scoped>\n",
       "    .dataframe tbody tr th:only-of-type {\n",
       "        vertical-align: middle;\n",
       "    }\n",
       "\n",
       "    .dataframe tbody tr th {\n",
       "        vertical-align: top;\n",
       "    }\n",
       "\n",
       "    .dataframe thead th {\n",
       "        text-align: right;\n",
       "    }\n",
       "</style>\n",
       "<table border=\"1\" class=\"dataframe\">\n",
       "  <thead>\n",
       "    <tr style=\"text-align: right;\">\n",
       "      <th></th>\n",
       "      <th>Country/Region</th>\n",
       "      <th>1/22/20</th>\n",
       "      <th>1/23/20</th>\n",
       "      <th>1/24/20</th>\n",
       "      <th>1/25/20</th>\n",
       "      <th>1/26/20</th>\n",
       "      <th>1/27/20</th>\n",
       "      <th>1/28/20</th>\n",
       "      <th>1/29/20</th>\n",
       "      <th>1/30/20</th>\n",
       "      <th>...</th>\n",
       "      <th>6/14/21</th>\n",
       "      <th>6/15/21</th>\n",
       "      <th>6/16/21</th>\n",
       "      <th>6/17/21</th>\n",
       "      <th>6/18/21</th>\n",
       "      <th>6/19/21</th>\n",
       "      <th>6/20/21</th>\n",
       "      <th>6/21/21</th>\n",
       "      <th>region</th>\n",
       "      <th>Image</th>\n",
       "    </tr>\n",
       "  </thead>\n",
       "  <tbody>\n",
       "    <tr>\n",
       "      <th>116</th>\n",
       "      <td>Micronesia</td>\n",
       "      <td>0</td>\n",
       "      <td>0</td>\n",
       "      <td>0</td>\n",
       "      <td>0</td>\n",
       "      <td>0</td>\n",
       "      <td>0</td>\n",
       "      <td>0</td>\n",
       "      <td>0</td>\n",
       "      <td>0</td>\n",
       "      <td>...</td>\n",
       "      <td>1</td>\n",
       "      <td>1</td>\n",
       "      <td>1</td>\n",
       "      <td>1</td>\n",
       "      <td>1</td>\n",
       "      <td>1</td>\n",
       "      <td>1</td>\n",
       "      <td>1</td>\n",
       "      <td>0</td>\n",
       "      <td>0</td>\n",
       "    </tr>\n",
       "  </tbody>\n",
       "</table>\n",
       "<p>1 rows × 520 columns</p>\n",
       "</div>"
      ],
      "text/plain": [
       "    Country/Region 1/22/20 1/23/20 1/24/20 1/25/20 1/26/20 1/27/20 1/28/20  \\\n",
       "116     Micronesia       0       0       0       0       0       0       0   \n",
       "\n",
       "    1/29/20 1/30/20  ... 6/14/21 6/15/21 6/16/21 6/17/21 6/18/21 6/19/21  \\\n",
       "116       0       0  ...       1       1       1       1       1       1   \n",
       "\n",
       "    6/20/21 6/21/21 region Image  \n",
       "116       1       1      0     0  \n",
       "\n",
       "[1 rows x 520 columns]"
      ]
     },
     "execution_count": 8,
     "metadata": {},
     "output_type": "execute_result"
    }
   ],
   "source": [
    "df_c[df_c.region==\"0\"]"
   ]
  },
  {
   "cell_type": "code",
   "execution_count": 5,
   "metadata": {
    "ExecuteTime": {
     "end_time": "2020-10-26T14:13:44.541475Z",
     "start_time": "2020-10-26T14:13:44.466446Z"
    }
   },
   "outputs": [],
   "source": [
    "df_c.to_csv(\"downloaded_for_fl.csv\", index=None)"
   ]
  },
  {
   "cell_type": "code",
   "execution_count": null,
   "metadata": {},
   "outputs": [],
   "source": []
  }
 ],
 "metadata": {
  "kernelspec": {
   "display_name": "Python 3",
   "language": "python",
   "name": "python3"
  },
  "language_info": {
   "codemirror_mode": {
    "name": "ipython",
    "version": 3
   },
   "file_extension": ".py",
   "mimetype": "text/x-python",
   "name": "python",
   "nbconvert_exporter": "python",
   "pygments_lexer": "ipython3",
   "version": "3.8.5"
  }
 },
 "nbformat": 4,
 "nbformat_minor": 2
}
