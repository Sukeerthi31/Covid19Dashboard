{
 "cells": [
  {
   "cell_type": "code",
   "execution_count": 66,
   "metadata": {},
   "outputs": [],
   "source": [
    "import pandas as pd"
   ]
  },
  {
   "cell_type": "code",
   "execution_count": 67,
   "metadata": {},
   "outputs": [],
   "source": [
    "import snowflake.connector as snow\n",
    "from snowflake.connector.pandas_tools import write_pandas"
   ]
  },
  {
   "cell_type": "code",
   "execution_count": 68,
   "metadata": {},
   "outputs": [],
   "source": [
    "conn = snow.connect(user=\"Sukeerthi31\",\n",
    "   password=\"Optum#2021\",\n",
    "   account=\"cx51711.ap-south-1.aws\",\n",
    "   warehouse=\"COVID\",\n",
    "   database=\"GLOBAL_COVID\",\n",
    "   schema=\"GLOBAL_DAILY_CASES\")"
   ]
  },
  {
   "cell_type": "code",
   "execution_count": 69,
   "metadata": {},
   "outputs": [
    {
     "data": {
      "text/plain": [
       "True"
      ]
     },
     "execution_count": 69,
     "metadata": {},
     "output_type": "execute_result"
    }
   ],
   "source": [
    "cur = conn.cursor()\n",
    "\n",
    "sql = \"truncate table if exists GLOBAL_CASES\"\n",
    "sql_one=\"drop file format if exists GLOBAL_COVID.GLOBAL_DAILY_CASES.Global_Data\"\n",
    "sql_two=\"drop stage if exists GLOBAL_COVID.GLOBAL_DAILY_CASES.GLOBAL_CASES\"\n",
    "cur.execute(sql)\n",
    "cur.execute(sql_one)\n",
    "cur.execute(sql_two)\n",
    "cur.close()\n"
   ]
  },
  {
   "cell_type": "code",
   "execution_count": 70,
   "metadata": {},
   "outputs": [
    {
     "data": {
      "text/plain": [
       "True"
      ]
     },
     "execution_count": 70,
     "metadata": {},
     "output_type": "execute_result"
    }
   ],
   "source": [
    "cur_col=conn.cursor()\n",
    "sql=\"CREATE FILE FORMAT GLOBAL_COVID.GLOBAL_DAILY_CASES.Global_Data TYPE = 'CSV'  FIELD_OPTIONALLY_ENCLOSED_BY = '\\042' ERROR_ON_COLUMN_COUNT_MISMATCH = FALSE\"\n",
    "sql_one=\"CREATE STAGE GLOBAL_COVID.GLOBAL_DAILY_CASES.GLOBAL_CASES\"\n",
    "cur_col.execute(sql)\n",
    "cur_col.execute(sql_one)\n",
    "cur_col.close()"
   ]
  },
  {
   "cell_type": "code",
   "execution_count": 71,
   "metadata": {},
   "outputs": [
    {
     "data": {
      "text/plain": [
       "True"
      ]
     },
     "execution_count": 71,
     "metadata": {},
     "output_type": "execute_result"
    }
   ],
   "source": [
    "cur_insert=conn.cursor()\n",
    "sql=\"PUT file://C://users//HP//Desktop//covid//covid_19_daily_reports//*.csv @global_cases auto_compress=true\"\n",
    "\n",
    "cur_insert.execute(sql)\n",
    "cur_insert.close()"
   ]
  },
  {
   "cell_type": "code",
   "execution_count": 72,
   "metadata": {},
   "outputs": [
    {
     "data": {
      "text/plain": [
       "True"
      ]
     },
     "execution_count": 72,
     "metadata": {},
     "output_type": "execute_result"
    }
   ],
   "source": [
    "cur_put=conn.cursor()\n",
    "sql=\"copy into global_cases from @global_cases file_format = (format_name = global_data) pattern = '.*.csv.gz' on_error = continue\"\n",
    "cur_put.execute(sql)\n",
    "cur_put.close()\n"
   ]
  },
  {
   "cell_type": "code",
   "execution_count": 73,
   "metadata": {},
   "outputs": [],
   "source": [
    "conn.close()"
   ]
  },
  {
   "cell_type": "code",
   "execution_count": null,
   "metadata": {},
   "outputs": [],
   "source": []
  }
 ],
 "metadata": {
  "kernelspec": {
   "display_name": "Python 3",
   "language": "python",
   "name": "python3"
  },
  "language_info": {
   "codemirror_mode": {
    "name": "ipython",
    "version": 3
   },
   "file_extension": ".py",
   "mimetype": "text/x-python",
   "name": "python",
   "nbconvert_exporter": "python",
   "pygments_lexer": "ipython3",
   "version": "3.8.5"
  }
 },
 "nbformat": 4,
 "nbformat_minor": 4
}
