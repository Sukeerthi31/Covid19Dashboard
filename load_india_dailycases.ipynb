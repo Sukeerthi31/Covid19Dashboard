{
 "cells": [
  {
   "cell_type": "code",
   "execution_count": 87,
   "metadata": {},
   "outputs": [],
   "source": [
    "import pandas as pd"
   ]
  },
  {
   "cell_type": "code",
   "execution_count": 88,
   "metadata": {},
   "outputs": [],
   "source": [
    "import snowflake.connector as snow\n",
    "from snowflake.connector.pandas_tools import write_pandas"
   ]
  },
  {
   "cell_type": "code",
   "execution_count": 89,
   "metadata": {},
   "outputs": [],
   "source": [
    "conn = snow.connect(user=\"Sukeerthi31\",\n",
    "   password=\"Optum#2021\",\n",
    "   account=\"cx51711.ap-south-1.aws\",\n",
    "   warehouse=\"COVID\",\n",
    "   database=\"INDIA_COVID\",\n",
    "   schema=\"INDIA_DAILY_CASES\")"
   ]
  },
  {
   "cell_type": "code",
   "execution_count": 90,
   "metadata": {},
   "outputs": [
    {
     "data": {
      "text/plain": [
       "True"
      ]
     },
     "execution_count": 90,
     "metadata": {},
     "output_type": "execute_result"
    }
   ],
   "source": [
    "cur = conn.cursor()\n",
    "\n",
    "sql = \"truncate table if exists INDIA_CASES\"\n",
    "sql_one=\"drop file format if exists INDIA_COVID.INDIA_DAILY_CASES.India_Data\"\n",
    "sql_two=\"drop stage if exists INDIA_COVID.INDIA_DAILY_CASES.INDIA_CASES\"\n",
    "cur.execute(sql)\n",
    "cur.execute(sql_one)\n",
    "cur.execute(sql_two)\n",
    "cur.close()\n"
   ]
  },
  {
   "cell_type": "code",
   "execution_count": 91,
   "metadata": {},
   "outputs": [
    {
     "data": {
      "text/plain": [
       "True"
      ]
     },
     "execution_count": 91,
     "metadata": {},
     "output_type": "execute_result"
    }
   ],
   "source": [
    "cur_col=conn.cursor()\n",
    "sql=\"CREATE FILE FORMAT INDIA_COVID.INDIA_DAILY_CASES.India_Data TYPE = 'CSV'  FIELD_OPTIONALLY_ENCLOSED_BY = '\\042' ERROR_ON_COLUMN_COUNT_MISMATCH = FALSE\"\n",
    "sql_one=\"CREATE STAGE INDIA_COVID.INDIA_DAILY_CASES.INDIA_CASES\"\n",
    "cur_col.execute(sql)\n",
    "cur_col.execute(sql_one)\n",
    "cur_col.close()"
   ]
  },
  {
   "cell_type": "code",
   "execution_count": 92,
   "metadata": {},
   "outputs": [
    {
     "data": {
      "text/plain": [
       "True"
      ]
     },
     "execution_count": 92,
     "metadata": {},
     "output_type": "execute_result"
    }
   ],
   "source": [
    "cur_insert=conn.cursor()\n",
    "sql=\"PUT file://C://users//HP//Desktop//covid//covid_19_daily_reports_india_codes.csv @india_cases auto_compress=true\"\n",
    "\n",
    "cur_insert.execute(sql)\n",
    "cur_insert.close()"
   ]
  },
  {
   "cell_type": "code",
   "execution_count": 93,
   "metadata": {},
   "outputs": [
    {
     "data": {
      "text/plain": [
       "True"
      ]
     },
     "execution_count": 93,
     "metadata": {},
     "output_type": "execute_result"
    }
   ],
   "source": [
    "cur_put=conn.cursor()\n",
    "sql_one=\"copy into india_cases from @india_cases file_format = (format_name = india_data) pattern = '.*.csv.gz' on_error = continue\"\n",
    "cur_put.execute(sql_one)\n",
    "cur_put.close()\n"
   ]
  },
  {
   "cell_type": "code",
   "execution_count": 79,
   "metadata": {},
   "outputs": [],
   "source": [
    "conn.close()"
   ]
  },
  {
   "cell_type": "code",
   "execution_count": null,
   "metadata": {},
   "outputs": [],
   "source": []
  },
  {
   "cell_type": "code",
   "execution_count": null,
   "metadata": {},
   "outputs": [],
   "source": []
  }
 ],
 "metadata": {
  "kernelspec": {
   "display_name": "Python 3",
   "language": "python",
   "name": "python3"
  },
  "language_info": {
   "codemirror_mode": {
    "name": "ipython",
    "version": 3
   },
   "file_extension": ".py",
   "mimetype": "text/x-python",
   "name": "python",
   "nbconvert_exporter": "python",
   "pygments_lexer": "ipython3",
   "version": "3.8.5"
  }
 },
 "nbformat": 4,
 "nbformat_minor": 4
}
