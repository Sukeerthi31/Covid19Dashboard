{
 "cells": [
  {
   "cell_type": "code",
   "execution_count": 14,
   "metadata": {},
   "outputs": [],
   "source": [
    "import pandas as pd"
   ]
  },
  {
   "cell_type": "code",
   "execution_count": 15,
   "metadata": {},
   "outputs": [],
   "source": [
    "import snowflake.connector as snow\n",
    "from snowflake.connector.pandas_tools import write_pandas"
   ]
  },
  {
   "cell_type": "code",
   "execution_count": 16,
   "metadata": {},
   "outputs": [],
   "source": [
    "conn = snow.connect(user=\"Sukeerthi31\",\n",
    "   password=\"Optum#2021\",\n",
    "   account=\"cx51711.ap-south-1.aws\",\n",
    "   warehouse=\"COVID\",\n",
    "   database=\"GLOBAL_COVID\",\n",
    "   schema=\"GLOBAL_VACCINATIONS\")"
   ]
  },
  {
   "cell_type": "code",
   "execution_count": 17,
   "metadata": {},
   "outputs": [
    {
     "data": {
      "text/plain": [
       "True"
      ]
     },
     "execution_count": 17,
     "metadata": {},
     "output_type": "execute_result"
    }
   ],
   "source": [
    "cur = conn.cursor()\n",
    "\n",
    "sql = \"truncate table if exists GLOBAL_COUNTRIES\"\n",
    "cur.execute(sql)\n",
    "cur.close()\n"
   ]
  },
  {
   "cell_type": "code",
   "execution_count": 18,
   "metadata": {},
   "outputs": [],
   "source": [
    "import glob\n",
    "path = \"vaccinations data\\\\country_data\\\\*.csv\"\n",
    "for filename in glob.glob(path):\n",
    "    with open(filename, 'r') as f:\n",
    "        original = f\n",
    "        total = pd.read_csv(original)\n",
    "        total.rename(columns={\"location\":\"LOCATION\",\n",
    "                              \"date\":\"DATE\",\n",
    "                              \"vaccine\":\"VACCINE\",\n",
    "                              \"source_url\":\"SOURCE_URL\",\n",
    "                              \"total_vaccinations\":\"TOTAL_VACCINATIONS\",\n",
    "                              \"people_vaccinated\":\"PEOPLE_VACCINATED\",\n",
    "                              \"people_fully_vaccinated\":\"PEOPLE_FULLY_VACCINATED\"\n",
    "                              \n",
    "                             },inplace=True)\n",
    "        write_pandas(conn, total, \"GLOBAL_COUNTRIES\")"
   ]
  },
  {
   "cell_type": "code",
   "execution_count": 19,
   "metadata": {},
   "outputs": [],
   "source": [
    "conn.close()"
   ]
  },
  {
   "cell_type": "code",
   "execution_count": null,
   "metadata": {},
   "outputs": [],
   "source": []
  }
 ],
 "metadata": {
  "kernelspec": {
   "display_name": "Python 3",
   "language": "python",
   "name": "python3"
  },
  "language_info": {
   "codemirror_mode": {
    "name": "ipython",
    "version": 3
   },
   "file_extension": ".py",
   "mimetype": "text/x-python",
   "name": "python",
   "nbconvert_exporter": "python",
   "pygments_lexer": "ipython3",
   "version": "3.8.5"
  }
 },
 "nbformat": 4,
 "nbformat_minor": 4
}
